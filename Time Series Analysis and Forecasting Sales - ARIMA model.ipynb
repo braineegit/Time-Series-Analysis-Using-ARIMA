{
 "cells": [
  {
   "cell_type": "code",
   "execution_count": 1,
   "id": "aed365c4",
   "metadata": {},
   "outputs": [],
   "source": [
    "import pandas as pd\n",
    "\n",
    "import matplotlib.pyplot as plt\n",
    "%matplotlib inline"
   ]
  },
  {
   "cell_type": "code",
   "execution_count": null,
   "id": "e7cc8cf5",
   "metadata": {},
   "outputs": [],
   "source": []
  },
  {
   "cell_type": "code",
   "execution_count": 2,
   "id": "4dfb462a",
   "metadata": {},
   "outputs": [
    {
     "data": {
      "text/html": [
       "<div>\n",
       "<style scoped>\n",
       "    .dataframe tbody tr th:only-of-type {\n",
       "        vertical-align: middle;\n",
       "    }\n",
       "\n",
       "    .dataframe tbody tr th {\n",
       "        vertical-align: top;\n",
       "    }\n",
       "\n",
       "    .dataframe thead th {\n",
       "        text-align: right;\n",
       "    }\n",
       "</style>\n",
       "<table border=\"1\" class=\"dataframe\">\n",
       "  <thead>\n",
       "    <tr style=\"text-align: right;\">\n",
       "      <th></th>\n",
       "      <th>Month</th>\n",
       "      <th>Sales</th>\n",
       "      <th>Inflation</th>\n",
       "    </tr>\n",
       "  </thead>\n",
       "  <tbody>\n",
       "    <tr>\n",
       "      <th>0</th>\n",
       "      <td>1-Jan</td>\n",
       "      <td>266.0</td>\n",
       "      <td>1</td>\n",
       "    </tr>\n",
       "    <tr>\n",
       "      <th>1</th>\n",
       "      <td>2-Jan</td>\n",
       "      <td>145.9</td>\n",
       "      <td>3</td>\n",
       "    </tr>\n",
       "    <tr>\n",
       "      <th>2</th>\n",
       "      <td>3-Jan</td>\n",
       "      <td>183.1</td>\n",
       "      <td>5</td>\n",
       "    </tr>\n",
       "    <tr>\n",
       "      <th>3</th>\n",
       "      <td>4-Jan</td>\n",
       "      <td>119.3</td>\n",
       "      <td>5</td>\n",
       "    </tr>\n",
       "    <tr>\n",
       "      <th>4</th>\n",
       "      <td>5-Jan</td>\n",
       "      <td>180.3</td>\n",
       "      <td>4</td>\n",
       "    </tr>\n",
       "  </tbody>\n",
       "</table>\n",
       "</div>"
      ],
      "text/plain": [
       "   Month  Sales  Inflation\n",
       "0  1-Jan  266.0          1\n",
       "1  2-Jan  145.9          3\n",
       "2  3-Jan  183.1          5\n",
       "3  4-Jan  119.3          5\n",
       "4  5-Jan  180.3          4"
      ]
     },
     "execution_count": 2,
     "metadata": {},
     "output_type": "execute_result"
    }
   ],
   "source": [
    "df = pd.read_csv(\"C:/Users/Satyam Sourabh/jupyter/Time Series/dataset/shampoo.csv\")\n",
    "\n",
    "df.head()"
   ]
  },
  {
   "cell_type": "code",
   "execution_count": null,
   "id": "e80b0536",
   "metadata": {},
   "outputs": [],
   "source": []
  },
  {
   "cell_type": "code",
   "execution_count": 3,
   "id": "62fa0bef",
   "metadata": {
    "scrolled": true
   },
   "outputs": [
    {
     "data": {
      "text/plain": [
       "pandas.core.frame.DataFrame"
      ]
     },
     "execution_count": 3,
     "metadata": {},
     "output_type": "execute_result"
    }
   ],
   "source": [
    "type(df)"
   ]
  },
  {
   "cell_type": "code",
   "execution_count": null,
   "id": "1a1f6c6f",
   "metadata": {},
   "outputs": [],
   "source": []
  },
  {
   "cell_type": "code",
   "execution_count": 4,
   "id": "3b0038f2",
   "metadata": {},
   "outputs": [
    {
     "data": {
      "text/html": [
       "<div>\n",
       "<style scoped>\n",
       "    .dataframe tbody tr th:only-of-type {\n",
       "        vertical-align: middle;\n",
       "    }\n",
       "\n",
       "    .dataframe tbody tr th {\n",
       "        vertical-align: top;\n",
       "    }\n",
       "\n",
       "    .dataframe thead th {\n",
       "        text-align: right;\n",
       "    }\n",
       "</style>\n",
       "<table border=\"1\" class=\"dataframe\">\n",
       "  <thead>\n",
       "    <tr style=\"text-align: right;\">\n",
       "      <th></th>\n",
       "      <th>Sales</th>\n",
       "    </tr>\n",
       "    <tr>\n",
       "      <th>Month</th>\n",
       "      <th></th>\n",
       "    </tr>\n",
       "  </thead>\n",
       "  <tbody>\n",
       "    <tr>\n",
       "      <th>1-Jan</th>\n",
       "      <td>266.0</td>\n",
       "    </tr>\n",
       "    <tr>\n",
       "      <th>2-Jan</th>\n",
       "      <td>145.9</td>\n",
       "    </tr>\n",
       "    <tr>\n",
       "      <th>3-Jan</th>\n",
       "      <td>183.1</td>\n",
       "    </tr>\n",
       "    <tr>\n",
       "      <th>4-Jan</th>\n",
       "      <td>119.3</td>\n",
       "    </tr>\n",
       "    <tr>\n",
       "      <th>5-Jan</th>\n",
       "      <td>180.3</td>\n",
       "    </tr>\n",
       "  </tbody>\n",
       "</table>\n",
       "</div>"
      ],
      "text/plain": [
       "       Sales\n",
       "Month       \n",
       "1-Jan  266.0\n",
       "2-Jan  145.9\n",
       "3-Jan  183.1\n",
       "4-Jan  119.3\n",
       "5-Jan  180.3"
      ]
     },
     "execution_count": 4,
     "metadata": {},
     "output_type": "execute_result"
    }
   ],
   "source": [
    "df = pd.read_csv(\"C:/Users/Satyam Sourabh/jupyter/Time Series/dataset/shampoo.csv\", index_col=[0], parse_dates=True)\n",
    "\n",
    "del df[\"Inflation\"]\n",
    "df.head()"
   ]
  },
  {
   "cell_type": "code",
   "execution_count": 5,
   "id": "e8c859e3",
   "metadata": {},
   "outputs": [
    {
     "data": {
      "text/plain": [
       "pandas.core.series.Series"
      ]
     },
     "execution_count": 5,
     "metadata": {},
     "output_type": "execute_result"
    }
   ],
   "source": [
    "ser = df.squeeze()\n",
    "\n",
    "type(ser)"
   ]
  },
  {
   "cell_type": "code",
   "execution_count": null,
   "id": "da2bb27d",
   "metadata": {},
   "outputs": [],
   "source": []
  },
  {
   "cell_type": "code",
   "execution_count": 6,
   "id": "2d03131b",
   "metadata": {},
   "outputs": [
    {
     "data": {
      "text/plain": [
       "<Axes: xlabel='Month'>"
      ]
     },
     "execution_count": 6,
     "metadata": {},
     "output_type": "execute_result"
    },
    {
     "data": {
      "image/png": "[encoded data removed]",
      "text/plain": [
       "<Figure size 640x480 with 1 Axes>"
      ]
     },
     "metadata": {},
     "output_type": "display_data"
    }
   ],
   "source": [
    "df.plot()"
   ]
  },
  {
   "cell_type": "code",
   "execution_count": null,
   "id": "fa49857f",
   "metadata": {},
   "outputs": [],
   "source": []
  },
  {
   "cell_type": "code",
   "execution_count": 7,
   "id": "9c828f97",
   "metadata": {},
   "outputs": [
    {
     "data": {
      "text/plain": [
       "<Axes: xlabel='Month'>"
      ]
     },
     "execution_count": 7,
     "metadata": {},
     "output_type": "execute_result"
    },
    {
     "data": {
      "image/png": "[encoded data removed]",
      "text/plain": [
       "<Figure size 640x480 with 1 Axes>"
      ]
     },
     "metadata": {},
     "output_type": "display_data"
    }
   ],
   "source": [
    "df.plot(style = 'k.')"
   ]
  },
  {
   "cell_type": "code",
   "execution_count": null,
   "id": "aaf4a1bd",
   "metadata": {},
   "outputs": [],
   "source": []
  },
  {
   "cell_type": "code",
   "execution_count": 8,
   "id": "5a879a46",
   "metadata": {},
   "outputs": [
    {
     "data": {
      "text/plain": [
       "36"
      ]
     },
     "execution_count": 8,
     "metadata": {},
     "output_type": "execute_result"
    }
   ],
   "source": [
    "# datapoints\n",
    "\n",
    "df.size"
   ]
  },
  {
   "cell_type": "code",
   "execution_count": null,
   "id": "5257d7dc",
   "metadata": {},
   "outputs": [],
   "source": []
  },
  {
   "cell_type": "code",
   "execution_count": 9,
   "id": "324b9286",
   "metadata": {},
   "outputs": [
    {
     "data": {
      "text/html": [
       "<div>\n",
       "<style scoped>\n",
       "    .dataframe tbody tr th:only-of-type {\n",
       "        vertical-align: middle;\n",
       "    }\n",
       "\n",
       "    .dataframe tbody tr th {\n",
       "        vertical-align: top;\n",
       "    }\n",
       "\n",
       "    .dataframe thead th {\n",
       "        text-align: right;\n",
       "    }\n",
       "</style>\n",
       "<table border=\"1\" class=\"dataframe\">\n",
       "  <thead>\n",
       "    <tr style=\"text-align: right;\">\n",
       "      <th></th>\n",
       "      <th>Sales</th>\n",
       "    </tr>\n",
       "  </thead>\n",
       "  <tbody>\n",
       "    <tr>\n",
       "      <th>count</th>\n",
       "      <td>36.000000</td>\n",
       "    </tr>\n",
       "    <tr>\n",
       "      <th>mean</th>\n",
       "      <td>312.600000</td>\n",
       "    </tr>\n",
       "    <tr>\n",
       "      <th>std</th>\n",
       "      <td>148.937164</td>\n",
       "    </tr>\n",
       "    <tr>\n",
       "      <th>min</th>\n",
       "      <td>119.300000</td>\n",
       "    </tr>\n",
       "    <tr>\n",
       "      <th>25%</th>\n",
       "      <td>192.450000</td>\n",
       "    </tr>\n",
       "    <tr>\n",
       "      <th>50%</th>\n",
       "      <td>280.150000</td>\n",
       "    </tr>\n",
       "    <tr>\n",
       "      <th>75%</th>\n",
       "      <td>411.100000</td>\n",
       "    </tr>\n",
       "    <tr>\n",
       "      <th>max</th>\n",
       "      <td>682.000000</td>\n",
       "    </tr>\n",
       "  </tbody>\n",
       "</table>\n",
       "</div>"
      ],
      "text/plain": [
       "            Sales\n",
       "count   36.000000\n",
       "mean   312.600000\n",
       "std    148.937164\n",
       "min    119.300000\n",
       "25%    192.450000\n",
       "50%    280.150000\n",
       "75%    411.100000\n",
       "max    682.000000"
      ]
     },
     "execution_count": 9,
     "metadata": {},
     "output_type": "execute_result"
    }
   ],
   "source": [
    "# stats\n",
    "\n",
    "df.describe()"
   ]
  },
  {
   "cell_type": "code",
   "execution_count": null,
   "id": "68bf6219",
   "metadata": {},
   "outputs": [],
   "source": []
  },
  {
   "cell_type": "markdown",
   "id": "f3047af3",
   "metadata": {},
   "source": [
    "### Smoothing of time series\n",
    "\n",
    "Smoothing of time series data refers to techniques that are used to remove short-term fluctuations and highlight longer-term trends and cycles. The main purpose of smoothing time series data is to make the data easier to visualize and analyze. Some common techniques for smoothing time series data include:\n",
    "\n",
    "- Moving Average - Calculating an average of a fixed number of time periods to smooth out short-term fluctuations. For example, a 5-period moving average would calculate the average of the previous 5 data points."
   ]
  },
  {
   "cell_type": "code",
   "execution_count": 10,
   "id": "8fd2aa6e",
   "metadata": {},
   "outputs": [
    {
     "data": {
      "text/plain": [
       "<Axes: xlabel='Month'>"
      ]
     },
     "execution_count": 10,
     "metadata": {},
     "output_type": "execute_result"
    },
    {
     "data": {
      "image/png": "[encoded data removed]",
      "text/plain": [
       "<Figure size 640x480 with 1 Axes>"
      ]
     },
     "metadata": {},
     "output_type": "display_data"
    }
   ],
   "source": [
    "df_ma = df.rolling(window=10).mean()\n",
    "\n",
    "df_ma.plot()"
   ]
  },
  {
   "cell_type": "code",
   "execution_count": null,
   "id": "cdd1e79f",
   "metadata": {},
   "outputs": [],
   "source": []
  },
  {
   "cell_type": "code",
   "execution_count": 11,
   "id": "a3357097",
   "metadata": {},
   "outputs": [
    {
     "data": {
      "text/html": [
       "<div>\n",
       "<style scoped>\n",
       "    .dataframe tbody tr th:only-of-type {\n",
       "        vertical-align: middle;\n",
       "    }\n",
       "\n",
       "    .dataframe tbody tr th {\n",
       "        vertical-align: top;\n",
       "    }\n",
       "\n",
       "    .dataframe thead th {\n",
       "        text-align: right;\n",
       "    }\n",
       "</style>\n",
       "<table border=\"1\" class=\"dataframe\">\n",
       "  <thead>\n",
       "    <tr style=\"text-align: right;\">\n",
       "      <th></th>\n",
       "      <th>Sales</th>\n",
       "    </tr>\n",
       "    <tr>\n",
       "      <th>Month</th>\n",
       "      <th></th>\n",
       "    </tr>\n",
       "  </thead>\n",
       "  <tbody>\n",
       "    <tr>\n",
       "      <th>1-Jan</th>\n",
       "      <td>266.0</td>\n",
       "    </tr>\n",
       "    <tr>\n",
       "      <th>2-Jan</th>\n",
       "      <td>145.9</td>\n",
       "    </tr>\n",
       "    <tr>\n",
       "      <th>3-Jan</th>\n",
       "      <td>183.1</td>\n",
       "    </tr>\n",
       "    <tr>\n",
       "      <th>4-Jan</th>\n",
       "      <td>119.3</td>\n",
       "    </tr>\n",
       "    <tr>\n",
       "      <th>5-Jan</th>\n",
       "      <td>180.3</td>\n",
       "    </tr>\n",
       "  </tbody>\n",
       "</table>\n",
       "</div>"
      ],
      "text/plain": [
       "       Sales\n",
       "Month       \n",
       "1-Jan  266.0\n",
       "2-Jan  145.9\n",
       "3-Jan  183.1\n",
       "4-Jan  119.3\n",
       "5-Jan  180.3"
      ]
     },
     "execution_count": 11,
     "metadata": {},
     "output_type": "execute_result"
    }
   ],
   "source": [
    "df.head()"
   ]
  },
  {
   "cell_type": "code",
   "execution_count": null,
   "id": "75489824",
   "metadata": {},
   "outputs": [],
   "source": []
  },
  {
   "cell_type": "code",
   "execution_count": 12,
   "id": "b0bc02e0",
   "metadata": {},
   "outputs": [
    {
     "data": {
      "text/html": [
       "<div>\n",
       "<style scoped>\n",
       "    .dataframe tbody tr th:only-of-type {\n",
       "        vertical-align: middle;\n",
       "    }\n",
       "\n",
       "    .dataframe tbody tr th {\n",
       "        vertical-align: top;\n",
       "    }\n",
       "\n",
       "    .dataframe thead th {\n",
       "        text-align: right;\n",
       "    }\n",
       "</style>\n",
       "<table border=\"1\" class=\"dataframe\">\n",
       "  <thead>\n",
       "    <tr style=\"text-align: right;\">\n",
       "      <th></th>\n",
       "      <th>Sales</th>\n",
       "      <th>Sales</th>\n",
       "    </tr>\n",
       "    <tr>\n",
       "      <th>Month</th>\n",
       "      <th></th>\n",
       "      <th></th>\n",
       "    </tr>\n",
       "  </thead>\n",
       "  <tbody>\n",
       "    <tr>\n",
       "      <th>1-Jan</th>\n",
       "      <td>266.0</td>\n",
       "      <td>NaN</td>\n",
       "    </tr>\n",
       "    <tr>\n",
       "      <th>2-Jan</th>\n",
       "      <td>145.9</td>\n",
       "      <td>266.0</td>\n",
       "    </tr>\n",
       "    <tr>\n",
       "      <th>3-Jan</th>\n",
       "      <td>183.1</td>\n",
       "      <td>145.9</td>\n",
       "    </tr>\n",
       "    <tr>\n",
       "      <th>4-Jan</th>\n",
       "      <td>119.3</td>\n",
       "      <td>183.1</td>\n",
       "    </tr>\n",
       "    <tr>\n",
       "      <th>5-Jan</th>\n",
       "      <td>180.3</td>\n",
       "      <td>119.3</td>\n",
       "    </tr>\n",
       "  </tbody>\n",
       "</table>\n",
       "</div>"
      ],
      "text/plain": [
       "       Sales  Sales\n",
       "Month              \n",
       "1-Jan  266.0    NaN\n",
       "2-Jan  145.9  266.0\n",
       "3-Jan  183.1  145.9\n",
       "4-Jan  119.3  183.1\n",
       "5-Jan  180.3  119.3"
      ]
     },
     "execution_count": 12,
     "metadata": {},
     "output_type": "execute_result"
    }
   ],
   "source": [
    "# base models - In machine learning, base models refer to simple models that are commonly used as a baseline or starting point before trying more complex models.\n",
    "\n",
    "# df is the original Pandas DataFrame df.shift(1) shifts the data down by 1 row. So the value from row 0 gets moved to row 1, row 1 value gets moved to row 2 and so on. The first row is filled with NaN.\n",
    "df_base = pd.concat([df, df.shift(1)], axis = 1) \n",
    "\n",
    "df_base.head()"
   ]
  },
  {
   "cell_type": "code",
   "execution_count": null,
   "id": "4f55d703",
   "metadata": {},
   "outputs": [],
   "source": []
  },
  {
   "cell_type": "code",
   "execution_count": 13,
   "id": "1987ae76",
   "metadata": {},
   "outputs": [
    {
     "name": "stdout",
     "output_type": "stream",
     "text": [
      "Index(['Sales', 'Sales'], dtype='object')\n"
     ]
    },
    {
     "data": {
      "text/html": [
       "<div>\n",
       "<style scoped>\n",
       "    .dataframe tbody tr th:only-of-type {\n",
       "        vertical-align: middle;\n",
       "    }\n",
       "\n",
       "    .dataframe tbody tr th {\n",
       "        vertical-align: top;\n",
       "    }\n",
       "\n",
       "    .dataframe thead th {\n",
       "        text-align: right;\n",
       "    }\n",
       "</style>\n",
       "<table border=\"1\" class=\"dataframe\">\n",
       "  <thead>\n",
       "    <tr style=\"text-align: right;\">\n",
       "      <th></th>\n",
       "      <th>Actual_Sales</th>\n",
       "      <th>Forecast_Sales</th>\n",
       "    </tr>\n",
       "    <tr>\n",
       "      <th>Month</th>\n",
       "      <th></th>\n",
       "      <th></th>\n",
       "    </tr>\n",
       "  </thead>\n",
       "  <tbody>\n",
       "    <tr>\n",
       "      <th>1-Jan</th>\n",
       "      <td>266.0</td>\n",
       "      <td>NaN</td>\n",
       "    </tr>\n",
       "    <tr>\n",
       "      <th>2-Jan</th>\n",
       "      <td>145.9</td>\n",
       "      <td>266.0</td>\n",
       "    </tr>\n",
       "    <tr>\n",
       "      <th>3-Jan</th>\n",
       "      <td>183.1</td>\n",
       "      <td>145.9</td>\n",
       "    </tr>\n",
       "    <tr>\n",
       "      <th>4-Jan</th>\n",
       "      <td>119.3</td>\n",
       "      <td>183.1</td>\n",
       "    </tr>\n",
       "    <tr>\n",
       "      <th>5-Jan</th>\n",
       "      <td>180.3</td>\n",
       "      <td>119.3</td>\n",
       "    </tr>\n",
       "  </tbody>\n",
       "</table>\n",
       "</div>"
      ],
      "text/plain": [
       "       Actual_Sales  Forecast_Sales\n",
       "Month                              \n",
       "1-Jan         266.0             NaN\n",
       "2-Jan         145.9           266.0\n",
       "3-Jan         183.1           145.9\n",
       "4-Jan         119.3           183.1\n",
       "5-Jan         180.3           119.3"
      ]
     },
     "execution_count": 13,
     "metadata": {},
     "output_type": "execute_result"
    }
   ],
   "source": [
    "print(df_base.columns)\n",
    "\n",
    "df_base.columns = ['Actual_Sales', 'Forecast_Sales']\n",
    "\n",
    "df_base.head()"
   ]
  },
  {
   "cell_type": "code",
   "execution_count": null,
   "id": "c1fbb1b0",
   "metadata": {},
   "outputs": [],
   "source": []
  },
  {
   "cell_type": "code",
   "execution_count": 14,
   "id": "0959314f",
   "metadata": {},
   "outputs": [
    {
     "data": {
      "text/html": [
       "<div>\n",
       "<style scoped>\n",
       "    .dataframe tbody tr th:only-of-type {\n",
       "        vertical-align: middle;\n",
       "    }\n",
       "\n",
       "    .dataframe tbody tr th {\n",
       "        vertical-align: top;\n",
       "    }\n",
       "\n",
       "    .dataframe thead th {\n",
       "        text-align: right;\n",
       "    }\n",
       "</style>\n",
       "<table border=\"1\" class=\"dataframe\">\n",
       "  <thead>\n",
       "    <tr style=\"text-align: right;\">\n",
       "      <th></th>\n",
       "      <th>Actual_Sales</th>\n",
       "      <th>Forecast_Sales</th>\n",
       "    </tr>\n",
       "    <tr>\n",
       "      <th>Month</th>\n",
       "      <th></th>\n",
       "      <th></th>\n",
       "    </tr>\n",
       "  </thead>\n",
       "  <tbody>\n",
       "    <tr>\n",
       "      <th>2-Jan</th>\n",
       "      <td>145.9</td>\n",
       "      <td>266.0</td>\n",
       "    </tr>\n",
       "    <tr>\n",
       "      <th>3-Jan</th>\n",
       "      <td>183.1</td>\n",
       "      <td>145.9</td>\n",
       "    </tr>\n",
       "    <tr>\n",
       "      <th>4-Jan</th>\n",
       "      <td>119.3</td>\n",
       "      <td>183.1</td>\n",
       "    </tr>\n",
       "    <tr>\n",
       "      <th>5-Jan</th>\n",
       "      <td>180.3</td>\n",
       "      <td>119.3</td>\n",
       "    </tr>\n",
       "    <tr>\n",
       "      <th>6-Jan</th>\n",
       "      <td>168.5</td>\n",
       "      <td>180.3</td>\n",
       "    </tr>\n",
       "  </tbody>\n",
       "</table>\n",
       "</div>"
      ],
      "text/plain": [
       "       Actual_Sales  Forecast_Sales\n",
       "Month                              \n",
       "2-Jan         145.9           266.0\n",
       "3-Jan         183.1           145.9\n",
       "4-Jan         119.3           183.1\n",
       "5-Jan         180.3           119.3\n",
       "6-Jan         168.5           180.3"
      ]
     },
     "execution_count": 14,
     "metadata": {},
     "output_type": "execute_result"
    }
   ],
   "source": [
    "# Remove NaN\n",
    "\n",
    "df_base.dropna(inplace=True)\n",
    "\n",
    "df_base.head()"
   ]
  },
  {
   "cell_type": "code",
   "execution_count": null,
   "id": "08aa0737",
   "metadata": {},
   "outputs": [],
   "source": []
  },
  {
   "cell_type": "code",
   "execution_count": 15,
   "id": "578ccb98",
   "metadata": {},
   "outputs": [],
   "source": [
    "# Error b/w actual and forecast\n",
    "\n",
    "from sklearn.metrics import mean_squared_error\n",
    "\n",
    "import numpy as np"
   ]
  },
  {
   "cell_type": "code",
   "execution_count": null,
   "id": "9e96fffa",
   "metadata": {},
   "outputs": [],
   "source": []
  },
  {
   "cell_type": "code",
   "execution_count": 16,
   "id": "c7254976",
   "metadata": {},
   "outputs": [
    {
     "data": {
      "text/plain": [
       "11715.388285714285"
      ]
     },
     "execution_count": 16,
     "metadata": {},
     "output_type": "execute_result"
    }
   ],
   "source": [
    "df_error = mean_squared_error(df_base.Actual_Sales, df_base.Forecast_Sales)\n",
    "\n",
    "df_error"
   ]
  },
  {
   "cell_type": "code",
   "execution_count": null,
   "id": "db71ce48",
   "metadata": {},
   "outputs": [],
   "source": []
  },
  {
   "cell_type": "code",
   "execution_count": 17,
   "id": "bb5f16b7",
   "metadata": {},
   "outputs": [
    {
     "data": {
      "text/plain": [
       "108.23764726616282"
      ]
     },
     "execution_count": 17,
     "metadata": {},
     "output_type": "execute_result"
    }
   ],
   "source": [
    "np.sqrt(df_error)"
   ]
  },
  {
   "cell_type": "code",
   "execution_count": null,
   "id": "b6241800",
   "metadata": {},
   "outputs": [],
   "source": []
  },
  {
   "cell_type": "markdown",
   "id": "d7c2f8ba",
   "metadata": {},
   "source": [
    "### ARIMA\n",
    "\n",
    "ARIMA (AutoRegressive Integrated Moving Average) is a statistical method for analyzing and forecasting time series data.\n",
    "\n",
    "Key aspects of ARIMA models:\n",
    "\n",
    "- AR (AutoRegressive) - The model uses the dependent relationship between current observation and lagged observations. The current value is regressed on previous values.\n",
    "\n",
    "- I (Integrated) - The use of differencing raw observations (subtracting an observation from an observation at the previous time step) to make the time series stationary.\n",
    "\n",
    "- MA (Moving Average) - The regression error is a linear combination of error terms at various time lags. Uses the dependency between the current value and residual errors from moving average model applied to lagged observations.\n",
    "\n",
    "- ARIMA models are denoted as ARIMA(p,d,q) where:\n",
    "1. p is the order of autoregression\n",
    "\n",
    "2. d is the degree of differencing\n",
    "\n",
    "3. q is the order of moving average\n",
    "\n",
    "- ARIMA models aim to describe the autocorrelations in the data.\n",
    "\n",
    "- Requires making time series data stationary by differencing, logging or deflating the data.\n",
    "\n",
    "- Useful for forecasting, price prediction, and modeling seasonality.\n",
    "\n",
    "- Requires determining optimal parameters p, d, q which relies on plotting ACF and PACF charts.\n",
    "\n",
    "- More flexible than exponential smoothing and can model non-stationary time series."
   ]
  },
  {
   "cell_type": "code",
   "execution_count": null,
   "id": "e202241a",
   "metadata": {},
   "outputs": [],
   "source": []
  },
  {
   "cell_type": "markdown",
   "id": "d5b4389a",
   "metadata": {},
   "source": [
    "ACF and PACF are two important statistical techniques used when modeling time series data and especially when fitting ARIMA models.\n",
    "\n",
    "**ACF** stands for Autocorrelation Function. It measures the correlation between the time series with a lagged version of itself. The ACF plot shows the autocorrelation coefficient for different time lags.\n",
    "\n",
    "**PACF** stands for Partial Autocorrelation Function. It measures the correlation between the time series with its own lags after removing the effects of the intervening lags."
   ]
  },
  {
   "cell_type": "code",
   "execution_count": null,
   "id": "97e0606f",
   "metadata": {},
   "outputs": [],
   "source": []
  },
  {
   "cell_type": "code",
   "execution_count": 18,
   "id": "3d0e8032",
   "metadata": {},
   "outputs": [
    {
     "data": {
      "image/png": "[encoded data removed]",
      "text/plain": [
       "<Figure size 640x480 with 1 Axes>"
      ]
     },
     "execution_count": 18,
     "metadata": {},
     "output_type": "execute_result"
    },
    {
     "data": {
      "image/png": "[encoded data removed]",
      "text/plain": [
       "<Figure size 640x480 with 1 Axes>"
      ]
     },
     "metadata": {},
     "output_type": "display_data"
    }
   ],
   "source": [
    "from statsmodels.graphics.tsaplots import plot_acf, plot_pacf\n",
    "\n",
    "plot_acf(df) # y-axis : autocorrelation coeff, x-axis : time lags"
   ]
  },
  {
   "cell_type": "code",
   "execution_count": 19,
   "id": "9c730422",
   "metadata": {},
   "outputs": [],
   "source": [
    "# q = 3"
   ]
  },
  {
   "cell_type": "code",
   "execution_count": null,
   "id": "6cb6ccf4",
   "metadata": {},
   "outputs": [],
   "source": []
  },
  {
   "cell_type": "code",
   "execution_count": 20,
   "id": "c30fe311",
   "metadata": {},
   "outputs": [],
   "source": [
    "# just to ignore warning and use pacf method in a better way\n",
    "\n",
    "from statsmodels.tsa.stattools import pacf\n",
    "\n",
    "pacf_ywm = pacf(df, method='ywm')"
   ]
  },
  {
   "cell_type": "code",
   "execution_count": 21,
   "id": "13eed48e",
   "metadata": {},
   "outputs": [
    {
     "name": "stderr",
     "output_type": "stream",
     "text": [
      "C:\\ProgramData\\anaconda3\\lib\\site-packages\\statsmodels\\graphics\\tsaplots.py:348: FutureWarning: The default method 'yw' can produce PACF values outside of the [-1,1] interval. After 0.13, the default will change tounadjusted Yule-Walker ('ywm'). You can use this method now by setting method='ywm'.\n",
      "  warnings.warn(\n"
     ]
    },
    {
     "data": {
      "image/png": "[encoded data removed]",
      "text/plain": [
       "<Figure size 640x480 with 1 Axes>"
      ]
     },
     "execution_count": 21,
     "metadata": {},
     "output_type": "execute_result"
    },
    {
     "data": {
      "image/png": "[encoded data removed]",
      "text/plain": [
       "<Figure size 640x480 with 1 Axes>"
      ]
     },
     "metadata": {},
     "output_type": "display_data"
    }
   ],
   "source": [
    "plot_pacf(df)"
   ]
  },
  {
   "cell_type": "code",
   "execution_count": 22,
   "id": "8e7dffc4",
   "metadata": {},
   "outputs": [],
   "source": [
    "# p = 2"
   ]
  },
  {
   "cell_type": "markdown",
   "id": "5bbf4cbd",
   "metadata": {},
   "source": [
    "**so, p = 2, d = 0-2, q = 3**"
   ]
  },
  {
   "cell_type": "code",
   "execution_count": null,
   "id": "42e454f4",
   "metadata": {},
   "outputs": [],
   "source": []
  },
  {
   "cell_type": "code",
   "execution_count": 23,
   "id": "9334fe99",
   "metadata": {},
   "outputs": [],
   "source": [
    "from statsmodels.tsa.arima.model import ARIMA"
   ]
  },
  {
   "cell_type": "code",
   "execution_count": null,
   "id": "adfbfd99",
   "metadata": {},
   "outputs": [],
   "source": []
  },
  {
   "cell_type": "code",
   "execution_count": 24,
   "id": "3437f56f",
   "metadata": {},
   "outputs": [],
   "source": [
    "df_train = df[0:25]\n",
    "df_test = df[25:36]"
   ]
  },
  {
   "cell_type": "code",
   "execution_count": null,
   "id": "8ed57ce6",
   "metadata": {},
   "outputs": [],
   "source": []
  },
  {
   "cell_type": "code",
   "execution_count": 40,
   "id": "dc90a378",
   "metadata": {},
   "outputs": [],
   "source": [
    "df_model = ARIMA(df_train, order=(2,1,3))"
   ]
  },
  {
   "cell_type": "code",
   "execution_count": null,
   "id": "bf3634d1",
   "metadata": {},
   "outputs": [],
   "source": []
  },
  {
   "cell_type": "code",
   "execution_count": 41,
   "id": "5090dc4a",
   "metadata": {},
   "outputs": [],
   "source": [
    "df_model_fit = df_model.fit()"
   ]
  },
  {
   "cell_type": "code",
   "execution_count": null,
   "id": "3c843631",
   "metadata": {},
   "outputs": [],
   "source": []
  },
  {
   "cell_type": "code",
   "execution_count": 42,
   "id": "4a0640e5",
   "metadata": {},
   "outputs": [
    {
     "data": {
      "text/plain": [
       "278.46527471993494"
      ]
     },
     "execution_count": 42,
     "metadata": {},
     "output_type": "execute_result"
    }
   ],
   "source": [
    "df_model_fit.aic"
   ]
  },
  {
   "cell_type": "code",
   "execution_count": null,
   "id": "7aaf0c3c",
   "metadata": {},
   "outputs": [],
   "source": []
  },
  {
   "cell_type": "code",
   "execution_count": 43,
   "id": "0ae738b1",
   "metadata": {},
   "outputs": [],
   "source": [
    "df_forecast = df_model_fit.forecast(steps=11)"
   ]
  },
  {
   "cell_type": "code",
   "execution_count": null,
   "id": "76b2fc84",
   "metadata": {},
   "outputs": [],
   "source": []
  },
  {
   "cell_type": "code",
   "execution_count": 44,
   "id": "3ddfe663",
   "metadata": {},
   "outputs": [
    {
     "data": {
      "text/plain": [
       "132.27752173594985"
      ]
     },
     "execution_count": 44,
     "metadata": {},
     "output_type": "execute_result"
    }
   ],
   "source": [
    "np.sqrt(mean_squared_error(df_test, df_forecast))"
   ]
  },
  {
   "cell_type": "code",
   "execution_count": null,
   "id": "266c1dc3",
   "metadata": {},
   "outputs": [],
   "source": []
  },
  {
   "cell_type": "markdown",
   "id": "18aa647d",
   "metadata": {},
   "source": [
    "**Base line model is much better doing the prediction than the ARIMA model**"
   ]
  },
  {
   "cell_type": "code",
   "execution_count": null,
   "id": "a4998fb4",
   "metadata": {},
   "outputs": [],
   "source": []
  },
  {
   "cell_type": "code",
   "execution_count": 30,
   "id": "06dc9365",
   "metadata": {},
   "outputs": [],
   "source": [
    "import warnings\n",
    "warnings.filterwarnings(\"ignore\")"
   ]
  },
  {
   "cell_type": "code",
   "execution_count": null,
   "id": "cee80dc6",
   "metadata": {},
   "outputs": [],
   "source": []
  },
  {
   "cell_type": "code",
   "execution_count": 32,
   "id": "49bc1632",
   "metadata": {},
   "outputs": [
    {
     "name": "stdout",
     "output_type": "stream",
     "text": [
      "ARIMA(0, 0, 0) MSE=77950.15735064412\n",
      "ARIMA(0, 0, 1) MSE=70120.55328642676\n",
      "ARIMA(0, 0, 2) MSE=58566.61542941707\n",
      "ARIMA(0, 0, 3) MSE=62031.47329755516\n",
      "ARIMA(0, 0, 4) MSE=36278.060368956874\n",
      "ARIMA(0, 1, 0) MSE=34770.73090909091\n",
      "ARIMA(0, 1, 1) MSE=40718.13783599281\n",
      "ARIMA(0, 1, 2) MSE=36648.76322133004\n",
      "ARIMA(0, 1, 3) MSE=30751.093380839335\n",
      "ARIMA(0, 1, 4) MSE=31626.445189733247\n",
      "ARIMA(0, 2, 0) MSE=35565.14909090905\n",
      "ARIMA(0, 2, 1) MSE=33820.85933155432\n",
      "ARIMA(0, 2, 2) MSE=27226.942640074718\n",
      "ARIMA(0, 2, 3) MSE=31874.27925131129\n",
      "ARIMA(0, 2, 4) MSE=28727.03213730046\n",
      "ARIMA(1, 0, 0) MSE=61157.42843184771\n",
      "ARIMA(1, 0, 1) MSE=46528.827021051926\n",
      "ARIMA(1, 0, 2) MSE=43922.12541460537\n",
      "ARIMA(1, 0, 3) MSE=35346.30988104363\n",
      "ARIMA(1, 0, 4) MSE=30366.046590885264\n",
      "ARIMA(1, 1, 0) MSE=34256.17720141014\n",
      "ARIMA(1, 1, 1) MSE=38734.23214579871\n",
      "ARIMA(1, 1, 2) MSE=34373.95046720097\n",
      "ARIMA(1, 1, 3) MSE=34805.12596911564\n",
      "ARIMA(1, 1, 4) MSE=25899.992287372446\n",
      "ARIMA(1, 2, 0) MSE=20017.83358483279\n",
      "ARIMA(1, 2, 1) MSE=31714.64789953041\n",
      "ARIMA(1, 2, 2) MSE=27371.385508533367\n",
      "ARIMA(1, 2, 3) MSE=23490.121962980018\n",
      "ARIMA(1, 2, 4) MSE=22536.21168133517\n",
      "ARIMA(2, 0, 0) MSE=45247.28554876514\n",
      "ARIMA(2, 0, 1) MSE=44820.5364984986\n",
      "ARIMA(2, 0, 2) MSE=39637.81888772927\n",
      "ARIMA(2, 0, 3) MSE=40646.822973681185\n",
      "ARIMA(2, 0, 4) MSE=29226.987096039098\n",
      "ARIMA(2, 1, 0) MSE=38340.35042993779\n",
      "ARIMA(2, 1, 1) MSE=38404.77212552215\n",
      "ARIMA(2, 1, 2) MSE=34550.048346543794\n",
      "ARIMA(2, 1, 3) MSE=27548.0241796815\n",
      "ARIMA(2, 1, 4) MSE=23032.394422678815\n",
      "ARIMA(2, 2, 0) MSE=35939.26586190526\n",
      "ARIMA(2, 2, 1) MSE=34764.11855948725\n",
      "ARIMA(2, 2, 2) MSE=32586.34734702723\n",
      "ARIMA(2, 2, 3) MSE=23232.875246610376\n",
      "ARIMA(2, 2, 4) MSE=21664.99207097396\n",
      "ARIMA(3, 0, 0) MSE=46326.57265413476\n",
      "ARIMA(3, 0, 1) MSE=44192.88857962262\n",
      "ARIMA(3, 0, 2) MSE=39906.80938059568\n",
      "ARIMA(3, 0, 3) MSE=42419.81293826467\n",
      "ARIMA(3, 0, 4) MSE=26287.010113845303\n",
      "ARIMA(3, 1, 0) MSE=27934.313639463762\n",
      "ARIMA(3, 1, 1) MSE=28369.168926571325\n",
      "ARIMA(3, 1, 2) MSE=23110.951297357922\n",
      "ARIMA(3, 1, 3) MSE=21658.16800530444\n",
      "ARIMA(3, 1, 4) MSE=20508.573332586388\n",
      "ARIMA(3, 2, 0) MSE=26126.958436612178\n",
      "ARIMA(3, 2, 1) MSE=22428.363182900797\n",
      "ARIMA(3, 2, 2) MSE=18503.08683272634\n",
      "ARIMA(3, 2, 3) MSE=17766.878596634957\n",
      "ARIMA(3, 2, 4) MSE=17400.516890137675\n",
      "ARIMA(4, 0, 0) MSE=33233.166756936516\n",
      "ARIMA(4, 0, 1) MSE=33239.994621727004\n",
      "ARIMA(4, 0, 2) MSE=26603.45426048205\n",
      "ARIMA(4, 0, 3) MSE=25119.16765963782\n",
      "ARIMA(4, 0, 4) MSE=24524.832925401497\n",
      "ARIMA(4, 1, 0) MSE=28670.43433677221\n",
      "ARIMA(4, 1, 1) MSE=24024.010511793666\n",
      "ARIMA(4, 1, 2) MSE=20940.814570687166\n",
      "ARIMA(4, 1, 3) MSE=23156.796011137325\n",
      "ARIMA(4, 1, 4) MSE=20259.846296647553\n",
      "ARIMA(4, 2, 0) MSE=21393.602034782347\n",
      "ARIMA(4, 2, 1) MSE=19262.376620971365\n",
      "ARIMA(4, 2, 2) MSE=20148.415202363583\n",
      "ARIMA(4, 2, 3) MSE=16103.878549574552\n",
      "ARIMA(4, 2, 4) MSE=18502.54547178175\n"
     ]
    }
   ],
   "source": [
    "p_values = range(0, 5)\n",
    "d_values = range(0, 3) \n",
    "q_values = range(0, 5)\n",
    "\n",
    "for p in p_values:\n",
    "    for d in d_values:\n",
    "        for q in q_values:\n",
    "            \n",
    "            order = (p,d,q)\n",
    "            \n",
    "            train = df[:25]\n",
    "            test = df[25:36]\n",
    "            \n",
    "            predictions = list()\n",
    "            \n",
    "            for i in range(len(test)):\n",
    "                try:\n",
    "                    model = ARIMA(train, order=order)  \n",
    "                    model_fit = model.fit()\n",
    "            \n",
    "                    y_pred = model_fit.forecast()\n",
    "                    predictions.append(y_pred)\n",
    "            \n",
    "                    mse = mean_squared_error(test, predictions)  \n",
    "                    print('ARIMA{} MSE={}'.format(order, mse))\n",
    "                \n",
    "                except:\n",
    "                    continue"
   ]
  },
  {
   "cell_type": "code",
   "execution_count": 34,
   "id": "5dd4f757",
   "metadata": {},
   "outputs": [
    {
     "data": {
      "text/plain": [
       "126.90105811053962"
      ]
     },
     "execution_count": 34,
     "metadata": {},
     "output_type": "execute_result"
    }
   ],
   "source": [
    "np.sqrt(16103.878549574552)"
   ]
  },
  {
   "cell_type": "markdown",
   "id": "63899413",
   "metadata": {},
   "source": [
    "**=>** ARIMA(4, 2, 3) is better than ARIMA(2,1,3)"
   ]
  },
  {
   "cell_type": "code",
   "execution_count": null,
   "id": "cdcfcee7",
   "metadata": {},
   "outputs": [],
   "source": []
  }
 ],
 "metadata": {
  "kernelspec": {
   "display_name": "Python 3 (ipykernel)",
   "language": "python",
   "name": "python3"
  },
  "language_info": {
   "codemirror_mode": {
    "name": "ipython",
    "version": 3
   },
   "file_extension": ".py",
   "mimetype": "text/x-python",
   "name": "python",
   "nbconvert_exporter": "python",
   "pygments_lexer": "ipython3",
   "version": "3.10.9"
  }
 },
 "nbformat": 4,
 "nbformat_minor": 5
}
